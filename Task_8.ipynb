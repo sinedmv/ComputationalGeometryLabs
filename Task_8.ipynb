{
 "cells": [
  {
   "metadata": {},
   "cell_type": "markdown",
   "source": [
    "# Задачи на 4\n",
    "## Геом. моделирование\n",
    "### 1. Найти аффинное преобразование F, переводящее:\n",
    "1. единичный куб, вписанный в I октант в косой параллелепипед с заданной вершиной O'= F(0) (O' != O), заданной диагональю d и основанием в плоскости Oyz\n",
    "2. Тетраэдр, отсекающий единичные отрезки на осях, в правильную пирамиду с заданным ребром, центром в точке O' != 0 и основанием Oxy\n",
    "### 2. Построить поверхность Безье (на свой выбор)\n",
    "## Геом. поиск\n",
    "### 3. Найти крайние точки в мн-ве $P_1, P_2,... P_{10} (R^3)$\n",
    "### 4. Построить евклидово минимальное остовное дерево для N точек на плоскостях (дерево с вершинами в заданных точках и минимальной суммой длин ребер)"
   ],
   "id": "6cef2d74d6e0aba7"
  },
  {
   "metadata": {
    "collapsed": true
   },
   "cell_type": "code",
   "outputs": [],
   "execution_count": null,
   "source": "",
   "id": "initial_id"
  }
 ],
 "metadata": {
  "kernelspec": {
   "display_name": "Python 3",
   "language": "python",
   "name": "python3"
  },
  "language_info": {
   "codemirror_mode": {
    "name": "ipython",
    "version": 2
   },
   "file_extension": ".py",
   "mimetype": "text/x-python",
   "name": "python",
   "nbconvert_exporter": "python",
   "pygments_lexer": "ipython2",
   "version": "2.7.6"
  }
 },
 "nbformat": 4,
 "nbformat_minor": 5
}
